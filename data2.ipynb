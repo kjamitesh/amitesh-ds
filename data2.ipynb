{
 "cells": [
  {
   "cell_type": "code",
   "execution_count": null,
   "metadata": {
    "id": "xCOuexSzHurz"
   },
   "outputs": [],
   "source": [
    "import pandas as pd\n",
    "import numpy as np\n",
    "import matplotlib.pyplot as plt\n",
    "%matplotlib inline"
   ]
  },
  {
   "cell_type": "code",
   "execution_count": null,
   "metadata": {
    "id": "GnnpTodQHurz"
   },
   "outputs": [],
   "source": [
    "url=\"https://www.moneycontrol.com/financials/hindustanunilever/profit-lossVI/HU\""
   ]
  },
  {
   "cell_type": "code",
   "execution_count": null,
   "metadata": {
    "id": "fJUjlvjcHur0"
   },
   "outputs": [],
   "source": [
    "tables=pd.read_html(url)"
   ]
  },
  {
   "cell_type": "code",
   "execution_count": null,
   "metadata": {
    "id": "y1bRS-U8Hur0"
   },
   "outputs": [],
   "source": [
    "tables[0]"
   ]
  },
  {
   "cell_type": "code",
   "execution_count": null,
   "metadata": {
    "id": "dK1yDqkDHur0"
   },
   "outputs": [],
   "source": [
    "tables=pd.read_html(url,skiprows=3)"
   ]
  },
  {
   "cell_type": "code",
   "execution_count": null,
   "metadata": {
    "id": "RsdWS3HDHur1"
   },
   "outputs": [],
   "source": [
    "pl = tables[0]"
   ]
  },
  {
   "cell_type": "code",
   "execution_count": null,
   "metadata": {
    "colab": {
     "base_uri": "https://localhost:8080/"
    },
    "id": "aNJPxMGGHur1",
    "outputId": "933e6c05-1570-4575-e1af-4c0af2354d20"
   },
   "outputs": [],
   "source": [
    "type(tables[0])"
   ]
  },
  {
   "cell_type": "code",
   "execution_count": null,
   "metadata": {
    "id": "VB0QjJEfHur1"
   },
   "outputs": [],
   "source": [
    "urls = [\"https://www.moneycontrol.com/financials/relianceindustries/profit-lossVI/RI\",\n",
    "        \"https://www.moneycontrol.com/financials/hindustanunilever/profit-lossVI/HU\"]"
   ]
  },
  {
   "cell_type": "code",
   "execution_count": null,
   "metadata": {
    "id": "piprGEkfHur2"
   },
   "outputs": [],
   "source": [
    "income_statements=[]"
   ]
  },
  {
   "cell_type": "code",
   "execution_count": null,
   "metadata": {
    "id": "YQXcw7lGHur2"
   },
   "outputs": [],
   "source": [
    "for url in urls:\n",
    "    result=pd.read_html(url,skiprows=3)\n",
    "    income_statements.extend(result)"
   ]
  },
  {
   "cell_type": "code",
   "execution_count": null,
   "metadata": {
    "colab": {
     "base_uri": "https://localhost:8080/"
    },
    "id": "5IZclwypHur2",
    "outputId": "4e38bfcf-42c2-48aa-fe71-88317ed6ead5"
   },
   "outputs": [],
   "source": [
    "len(income_statements)"
   ]
  },
  {
   "cell_type": "code",
   "execution_count": null,
   "metadata": {
    "id": "HzNhdF_GHur3"
   },
   "outputs": [],
   "source": [
    "income_statements[0]"
   ]
  },
  {
   "cell_type": "code",
   "execution_count": null,
   "metadata": {
    "id": "xSXlJJzcHur3"
   },
   "outputs": [],
   "source": [
    "import yfinance as yf"
   ]
  },
  {
   "cell_type": "code",
   "execution_count": null,
   "metadata": {
    "colab": {
     "base_uri": "https://localhost:8080/"
    },
    "id": "7mn-XYBJHur3",
    "outputId": "f40939aa-7816-455a-e073-825fb475fd7d"
   },
   "outputs": [],
   "source": [
    "sensex = yf.download(\"^BSESN\")"
   ]
  },
  {
   "cell_type": "code",
   "execution_count": null,
   "metadata": {
    "colab": {
     "base_uri": "https://localhost:8080/",
     "height": 112
    },
    "id": "Wd1hkhrhHur3",
    "outputId": "2313b7df-8508-4ab7-eab3-523631a682db"
   },
   "outputs": [],
   "source": [
    "sensex.head(1)"
   ]
  },
  {
   "cell_type": "code",
   "execution_count": null,
   "metadata": {
    "colab": {
     "base_uri": "https://localhost:8080/",
     "height": 112
    },
    "id": "FilwIMQcHur4",
    "outputId": "31afd725-0686-4fb4-b1d0-4681af8f9dab"
   },
   "outputs": [],
   "source": [
    "sensex.tail(1)"
   ]
  },
  {
   "cell_type": "code",
   "execution_count": null,
   "metadata": {
    "colab": {
     "base_uri": "https://localhost:8080/",
     "height": 422
    },
    "id": "ehaUp8iJHur4",
    "outputId": "797bf4ba-22ae-4a64-e413-657130ebd515"
   },
   "outputs": [],
   "source": [
    "sensex['Adj Close'].pct_change().dropna().plot();"
   ]
  },
  {
   "cell_type": "code",
   "execution_count": null,
   "metadata": {
    "colab": {
     "base_uri": "https://localhost:8080/",
     "height": 238
    },
    "id": "_B6N0KJjHur4",
    "outputId": "55e2a2d1-c1fc-4070-b205-a193bdf0e4bb"
   },
   "outputs": [],
   "source": [
    "tsla_df = yf.download('TSLA', \n",
    "                      start='2022-01-01', #yyyy-mm-dd format\n",
    "                      end='2022-12-31', \n",
    "                      progress=False)\n",
    "tsla_df.head()"
   ]
  },
  {
   "cell_type": "code",
   "execution_count": null,
   "metadata": {
    "colab": {
     "base_uri": "https://localhost:8080/",
     "height": 238
    },
    "id": "xwXtdNKgHur5",
    "outputId": "34ad1d81-39b2-4c0c-87d2-fa7d0413dc7b"
   },
   "outputs": [],
   "source": [
    "ticker=yf.Ticker(\"HINDUNILVR.NS\")\n",
    "hul = ticker.history(period=\"max\")\n",
    "hul.head()"
   ]
  },
  {
   "cell_type": "code",
   "execution_count": null,
   "metadata": {
    "colab": {
     "base_uri": "https://localhost:8080/"
    },
    "id": "0vefTnfsHur6",
    "outputId": "078b6454-d000-4f81-c64f-d501e91ecd3e"
   },
   "outputs": [],
   "source": [
    "!pip install pandas_datareader"
   ]
  },
  {
   "cell_type": "code",
   "execution_count": null,
   "metadata": {
    "id": "HmkdLHTWHur6"
   },
   "outputs": [],
   "source": [
    "from pandas_datareader import data, wb"
   ]
  },
  {
   "cell_type": "code",
   "execution_count": null,
   "metadata": {
    "id": "yuHDyoZgHur8"
   },
   "outputs": [],
   "source": [
    "matches = wb.get_indicators()"
   ]
  },
  {
   "cell_type": "code",
   "execution_count": null,
   "metadata": {
    "colab": {
     "base_uri": "https://localhost:8080/"
    },
    "id": "yH9H3rNFHur8",
    "outputId": "3672f4e8-b680-4ec9-829e-e6741d17d6db"
   },
   "outputs": [],
   "source": [
    "matches.shape"
   ]
  },
  {
   "cell_type": "code",
   "execution_count": null,
   "metadata": {
    "colab": {
     "base_uri": "https://localhost:8080/",
     "height": 206
    },
    "id": "Num1ZxNcHur8",
    "outputId": "5d128fde-283b-4b9f-b7bd-79cb407ddd76"
   },
   "outputs": [],
   "source": [
    "matches.head()"
   ]
  },
  {
   "cell_type": "code",
   "execution_count": null,
   "metadata": {
    "id": "9LtDfoN2Hur8"
   },
   "outputs": [],
   "source": [
    "gdp_wb = matches[matches.id.apply(lambda x: \"GDP\" in x)]"
   ]
  },
  {
   "cell_type": "code",
   "execution_count": null,
   "metadata": {
    "colab": {
     "base_uri": "https://localhost:8080/",
     "height": 206
    },
    "id": "kwd_ySmFMpio",
    "outputId": "23206fe1-d3e1-4ce8-a559-3730fbc290e9"
   },
   "outputs": [],
   "source": [
    "gdp_wb.head()"
   ]
  },
  {
   "cell_type": "code",
   "execution_count": null,
   "metadata": {
    "colab": {
     "base_uri": "https://localhost:8080/"
    },
    "id": "G80Gne1dMrno",
    "outputId": "df058a94-beca-4ca5-ad8c-fef7c2d8cb42"
   },
   "outputs": [],
   "source": [
    "gdp_wb.shape"
   ]
  },
  {
   "cell_type": "code",
   "execution_count": null,
   "metadata": {
    "colab": {
     "base_uri": "https://localhost:8080/",
     "height": 81
    },
    "id": "1BNHB5UZNL9K",
    "outputId": "d264fcb4-6c29-4f6e-8f73-c0c53ef3a0f2"
   },
   "outputs": [],
   "source": [
    "gdp_wb[gdp_wb.id==\"NY.GDP.PCAP.KD\"]"
   ]
  },
  {
   "cell_type": "code",
   "execution_count": null,
   "metadata": {
    "colab": {
     "base_uri": "https://localhost:8080/",
     "height": 143
    },
    "id": "qgt45yqSHur8",
    "outputId": "8d88cd18-f483-4396-e085-89d603821819"
   },
   "outputs": [],
   "source": [
    "gdp = wb.download(indicator=\"NY.GDP.PCAP.KD\",country=['US','IN','CN'],start=1990,end=2022)\n",
    "gdp.head(2)"
   ]
  },
  {
   "cell_type": "code",
   "execution_count": null,
   "metadata": {
    "colab": {
     "base_uri": "https://localhost:8080/",
     "height": 112
    },
    "id": "RXww9OxGHur8",
    "outputId": "a762f23b-2e18-452a-8eb1-6ddd8ce3dadf"
   },
   "outputs": [],
   "source": [
    "gdp.reset_index(inplace=True)\n",
    "gdp.head(2)"
   ]
  },
  {
   "cell_type": "code",
   "execution_count": null,
   "metadata": {
    "colab": {
     "base_uri": "https://localhost:8080/",
     "height": 143
    },
    "id": "ePeCG6eGHur8",
    "outputId": "734a4640-17d9-447f-e5bb-69c951404e26"
   },
   "outputs": [],
   "source": [
    "gdp=gdp.pivot(index='year',columns='country',values='NY.GDP.PCAP.KD')\n",
    "gdp.head(2)"
   ]
  },
  {
   "cell_type": "code",
   "execution_count": null,
   "metadata": {
    "colab": {
     "base_uri": "https://localhost:8080/",
     "height": 472
    },
    "id": "2j88RVMJHur9",
    "outputId": "9c1ab2ac-863b-47f6-bb53-397e69d772de"
   },
   "outputs": [],
   "source": [
    "gdp.plot()\n",
    "plt.title(\"Per-Capital GDP over time: Us, India and China\");"
   ]
  },
  {
   "cell_type": "markdown",
   "metadata": {
    "id": "9Sm_Ce1yHur9"
   },
   "source": [
    "## Google Search Trends"
   ]
  },
  {
   "cell_type": "code",
   "execution_count": null,
   "metadata": {
    "colab": {
     "base_uri": "https://localhost:8080/"
    },
    "id": "ucVYOQU3Hur-",
    "outputId": "05a158da-e450-4444-ee15-015c276e818e"
   },
   "outputs": [],
   "source": [
    "!pip install pytrends"
   ]
  },
  {
   "cell_type": "code",
   "execution_count": null,
   "metadata": {
    "id": "4m77VKv1Hur-"
   },
   "outputs": [],
   "source": [
    "from pytrends.request import TrendReq"
   ]
  },
  {
   "cell_type": "markdown",
   "metadata": {
    "id": "uM-BvC24TL-S"
   },
   "source": [
    "https://pypi.org/project/pytrends/"
   ]
  },
  {
   "cell_type": "code",
   "execution_count": null,
   "metadata": {
    "colab": {
     "base_uri": "https://localhost:8080/",
     "height": 641
    },
    "id": "kSuMnqi7Hur-",
    "outputId": "ea924848-b068-4a12-9f29-0f0b081734ef"
   },
   "outputs": [],
   "source": [
    "gt = TrendReq(timeout=(10,25),retries=2)"
   ]
  },
  {
   "cell_type": "code",
   "execution_count": null,
   "metadata": {
    "colab": {
     "base_uri": "https://localhost:8080/",
     "height": 467
    },
    "id": "K1n-bzMJHur-",
    "outputId": "24a5cf59-1fcc-40f4-c9a3-0ffcce670d03"
   },
   "outputs": [],
   "source": [
    "gt.build_payload(kw_list=[\"Covid\"])"
   ]
  },
  {
   "cell_type": "code",
   "execution_count": null,
   "metadata": {
    "id": "Q_ZEhH1MHur-"
   },
   "outputs": [],
   "source": [
    "data = gt.interest_by_region()\n"
   ]
  },
  {
   "cell_type": "code",
   "execution_count": null,
   "metadata": {
    "id": "aKIoNA1jHur-",
    "outputId": "b7f04368-640b-4184-8c87-39162d71042f"
   },
   "outputs": [],
   "source": [
    "data[\"Covid\"].sort_values(ascending=False).head(6)"
   ]
  },
  {
   "cell_type": "code",
   "execution_count": null,
   "metadata": {
    "id": "yO3PFVJVHur-",
    "outputId": "cf77db10-47e9-4647-ee59-14476fab7dc7"
   },
   "outputs": [],
   "source": [
    "data.loc[data.index==\"India\"]"
   ]
  },
  {
   "cell_type": "code",
   "execution_count": null,
   "metadata": {
    "id": "hz0Ww7EiHur_"
   },
   "outputs": [],
   "source": [
    "# The values are calculated on a scale from 0 to 100, where 100 is the location with the most popularity \n",
    "# as a fraction of total searches in that location, a value of 50 indicates a location which is half as popular. \n",
    "# A value of 0 indicates a location where there was not enough data for this term."
   ]
  },
  {
   "cell_type": "code",
   "execution_count": null,
   "metadata": {
    "id": "L0jpUj_DHur_",
    "outputId": "5b83418d-df05-49c9-b37f-2817ae634cae"
   },
   "outputs": [],
   "source": [
    "data.Covid.sort_values(ascending=False).head(10).plot(kind='bar');"
   ]
  },
  {
   "cell_type": "code",
   "execution_count": null,
   "metadata": {
    "id": "zMGuRhg_Hur_"
   },
   "outputs": [],
   "source": [
    "# Daily Search Trends\n"
   ]
  },
  {
   "cell_type": "code",
   "execution_count": null,
   "metadata": {
    "id": "09hhjBo-Hur_",
    "outputId": "3af4b167-3f25-45d0-b462-2a8302333383"
   },
   "outputs": [],
   "source": [
    "df = gt.trending_searches(pn='india')\n",
    "df.head(10)"
   ]
  },
  {
   "cell_type": "code",
   "execution_count": null,
   "metadata": {
    "id": "A3VN2B2DHur_",
    "outputId": "41e61f1f-628b-4a66-b3e1-a6ffa8321f98"
   },
   "outputs": [],
   "source": [
    "today = gt.today_searches(pn=\"IN\")\n",
    "today.head(10)"
   ]
  },
  {
   "cell_type": "code",
   "execution_count": null,
   "metadata": {
    "colab": {
     "base_uri": "https://localhost:8080/",
     "height": 206
    },
    "id": "cUeDzRzEHur_",
    "outputId": "2595a91a-cd60-417e-bf21-a0d5ddd0790d"
   },
   "outputs": [],
   "source": [
    "# keyword suggestions\n",
    "keywords = gt.suggestions(keyword='Covid')\n",
    "df = pd.DataFrame(keywords)\n",
    "df.head()"
   ]
  },
  {
   "cell_type": "code",
   "execution_count": null,
   "metadata": {
    "colab": {
     "base_uri": "https://localhost:8080/",
     "height": 345
    },
    "id": "VCcsX5BdHur_",
    "outputId": "e9093709-0f4b-4cd4-ea34-7d501972b76b"
   },
   "outputs": [],
   "source": [
    "gt = TrendReq(geo=\"IN\")\n",
    "gt.build_payload(kw_list=[\"jobs\"])\n",
    "gt.interest_over_time().plot();"
   ]
  },
  {
   "cell_type": "code",
   "execution_count": null,
   "metadata": {
    "id": "c6iEBbbyHusA",
    "outputId": "b6141461-398f-4df1-beed-69026de900d9"
   },
   "outputs": [],
   "source": [
    "gt.interest_by_region().head()"
   ]
  },
  {
   "cell_type": "code",
   "execution_count": null,
   "metadata": {
    "id": "9McL_-u2HusA",
    "outputId": "d1b10b1a-1559-47e5-f2b7-3961b84aff00"
   },
   "outputs": [],
   "source": [
    "gt.interest_by_region().sort_values('jobs',ascending=False).head(10).plot(kind='barh')\n"
   ]
  },
  {
   "cell_type": "code",
   "execution_count": null,
   "metadata": {},
   "outputs": [],
   "source": []
  }
 ],
 "metadata": {
  "colab": {
   "provenance": []
  },
  "kernelspec": {
   "display_name": "Python 3 (ipykernel)",
   "language": "python",
   "name": "python3"
  },
  "language_info": {
   "codemirror_mode": {
    "name": "ipython",
    "version": 3
   },
   "file_extension": ".py",
   "mimetype": "text/x-python",
   "name": "python",
   "nbconvert_exporter": "python",
   "pygments_lexer": "ipython3",
   "version": "3.9.12"
  }
 },
 "nbformat": 4,
 "nbformat_minor": 1
}
