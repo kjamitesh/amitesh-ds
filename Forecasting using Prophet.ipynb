{
 "cells": [
  {
   "cell_type": "code",
   "execution_count": null,
   "id": "8a1879a0",
   "metadata": {},
   "outputs": [],
   "source": [
    "pip install prophet"
   ]
  },
  {
   "cell_type": "code",
   "execution_count": null,
   "id": "4f429e1b",
   "metadata": {},
   "outputs": [],
   "source": [
    "pip install plotly"
   ]
  },
  {
   "cell_type": "code",
   "execution_count": null,
   "id": "9568ce0f",
   "metadata": {},
   "outputs": [],
   "source": [
    "pip install yfinance"
   ]
  },
  {
   "cell_type": "code",
   "execution_count": null,
   "id": "a4f68a11",
   "metadata": {},
   "outputs": [],
   "source": [
    "import pandas as pd\n",
    "import plotly.express as px\n",
    "from prophet import Prophet"
   ]
  },
  {
   "cell_type": "code",
   "execution_count": null,
   "id": "0506d15c",
   "metadata": {},
   "outputs": [],
   "source": [
    "import yfinance as yf"
   ]
  },
  {
   "cell_type": "code",
   "execution_count": null,
   "id": "b6eda08c",
   "metadata": {},
   "outputs": [],
   "source": [
    "# If using colab\n",
    "import plotly.io as pio\n",
    "pio.renderers\n",
    "# Check: https://plotly.com/python/renderers/"
   ]
  },
  {
   "cell_type": "code",
   "execution_count": null,
   "id": "71f27c89",
   "metadata": {},
   "outputs": [],
   "source": [
    "pio.renderers.default = 'colab'"
   ]
  },
  {
   "cell_type": "code",
   "execution_count": null,
   "id": "8de8f455",
   "metadata": {},
   "outputs": [],
   "source": [
    "stock = yf.download(\"AMZN\",progress=False)\n",
    "stock.head(2)"
   ]
  },
  {
   "cell_type": "code",
   "execution_count": null,
   "id": "0d37183a",
   "metadata": {},
   "outputs": [],
   "source": [
    "px.area(stock,x=stock.index,y=\"Adj Close\")"
   ]
  },
  {
   "cell_type": "code",
   "execution_count": null,
   "id": "76cb0824",
   "metadata": {},
   "outputs": [],
   "source": [
    "px.line(stock,x=stock.index,y=\"Adj Close\")"
   ]
  },
  {
   "cell_type": "code",
   "execution_count": null,
   "id": "ffc5f7de",
   "metadata": {},
   "outputs": [],
   "source": [
    "px.box(stock,y='Volume')"
   ]
  },
  {
   "cell_type": "code",
   "execution_count": null,
   "id": "dceb0d53",
   "metadata": {},
   "outputs": [],
   "source": [
    "df = stock[[\"Adj Close\"]].copy()\n",
    "df.head(2)"
   ]
  },
  {
   "cell_type": "code",
   "execution_count": null,
   "id": "97f856c2",
   "metadata": {},
   "outputs": [],
   "source": [
    "df.reset_index(inplace=True)\n",
    "df.head(2)"
   ]
  },
  {
   "cell_type": "code",
   "execution_count": null,
   "id": "e7cce36d",
   "metadata": {},
   "outputs": [],
   "source": [
    "df_prophet = df.rename(columns=\n",
    "                        {\"Date\":\"ds\",\"Adj Close\":'y'}\n",
    "                        )\n",
    "df_prophet.head(2)"
   ]
  },
  {
   "cell_type": "code",
   "execution_count": null,
   "id": "2d2884c6",
   "metadata": {},
   "outputs": [],
   "source": [
    "model = Prophet()\n",
    "model.fit(df_prophet)"
   ]
  },
  {
   "cell_type": "code",
   "execution_count": null,
   "id": "76ea05ac",
   "metadata": {},
   "outputs": [],
   "source": [
    "future = model.make_future_dataframe(periods=30)\n",
    "forecast  = model.predict(future)"
   ]
  },
  {
   "cell_type": "code",
   "execution_count": null,
   "id": "fa2121c0",
   "metadata": {},
   "outputs": [],
   "source": [
    "forecast.head()"
   ]
  },
  {
   "cell_type": "code",
   "execution_count": null,
   "id": "51ee8232",
   "metadata": {},
   "outputs": [],
   "source": [
    "px.line(forecast,x='ds',y='yhat')"
   ]
  },
  {
   "cell_type": "code",
   "execution_count": null,
   "id": "480df1ee",
   "metadata": {},
   "outputs": [],
   "source": [
    "figure = model.plot(forecast,xlabel='ds',ylabel='y')            \n"
   ]
  },
  {
   "cell_type": "code",
   "execution_count": null,
   "id": "fb2e955e",
   "metadata": {},
   "outputs": [],
   "source": [
    "figure1 = m.plot_components(forecast)"
   ]
  },
  {
   "cell_type": "code",
   "execution_count": null,
   "id": "27ea6399",
   "metadata": {},
   "outputs": [],
   "source": [
    "# Create a function to get the forecast"
   ]
  }
 ],
 "metadata": {
  "kernelspec": {
   "display_name": "Python 3 (ipykernel)",
   "language": "python",
   "name": "python3"
  },
  "language_info": {
   "codemirror_mode": {
    "name": "ipython",
    "version": 3
   },
   "file_extension": ".py",
   "mimetype": "text/x-python",
   "name": "python",
   "nbconvert_exporter": "python",
   "pygments_lexer": "ipython3",
   "version": "3.8.8"
  }
 },
 "nbformat": 4,
 "nbformat_minor": 5
}
